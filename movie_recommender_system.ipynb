{
  "nbformat": 4,
  "nbformat_minor": 0,
  "metadata": {
    "colab": {
      "name": "movie-recommender-system.ipynb",
      "private_outputs": true,
      "provenance": [],
      "collapsed_sections": []
    },
    "kernelspec": {
      "name": "python3",
      "display_name": "Python 3"
    },
    "language_info": {
      "name": "python"
    }
  },
  "cells": [
    {
      "cell_type": "code",
      "metadata": {
        "id": "PXk05R-0hbVZ"
      },
      "source": [
        "import numpy as np\n",
        "import pandas as pd \n"
      ],
      "execution_count": null,
      "outputs": []
    },
    {
      "cell_type": "code",
      "metadata": {
        "id": "Vvh0caf1mBB-"
      },
      "source": [
        "movies = pd.read_csv('/content/tmdb_5000_movies.csv')\n",
        "credits = pd.read_csv('/content/tmdb_5000_credits.csv')\n"
      ],
      "execution_count": null,
      "outputs": []
    },
    {
      "cell_type": "code",
      "metadata": {
        "id": "wDM6Q6la4n-i"
      },
      "source": [
        "movies.head()"
      ],
      "execution_count": null,
      "outputs": []
    },
    {
      "cell_type": "code",
      "metadata": {
        "id": "6crL5KhR42h0"
      },
      "source": [
        "credits.head()"
      ],
      "execution_count": null,
      "outputs": []
    },
    {
      "cell_type": "code",
      "metadata": {
        "id": "55HRhw3Q48jr"
      },
      "source": [
        "movies = movies.merge(credits,on='title')\n",
        "movies = movies[['movie_id','title','release_date','vote_average','overview','genres','keywords','cast','crew']]\n",
        "movies.head()"
      ],
      "execution_count": null,
      "outputs": []
    },
    {
      "cell_type": "code",
      "metadata": {
        "id": "97y1x0N86hZX"
      },
      "source": [
        "movies.dropna(inplace=True)"
      ],
      "execution_count": null,
      "outputs": []
    },
    {
      "cell_type": "code",
      "metadata": {
        "id": "n9ZtzFNo7buv"
      },
      "source": [
        "movies.isnull().sum()"
      ],
      "execution_count": null,
      "outputs": []
    },
    {
      "cell_type": "code",
      "metadata": {
        "id": "8GA01S7c7oQz"
      },
      "source": [
        "import ast\n",
        "def convert(obj):\n",
        "    L= []\n",
        "    for i in ast.literal_eval(obj):\n",
        "        L.append(i['name'])\n",
        "    return L"
      ],
      "execution_count": null,
      "outputs": []
    },
    {
      "cell_type": "code",
      "metadata": {
        "id": "HefHnXGb8oZq"
      },
      "source": [
        "movies['genres'] = movies['genres'].apply(convert)\n",
        "movies['keywords'] = movies['keywords'].apply(convert)\n",
        "movies.head()"
      ],
      "execution_count": null,
      "outputs": []
    },
    {
      "cell_type": "code",
      "metadata": {
        "id": "wD7fpq429DS5"
      },
      "source": [
        "def convert3(obj):\n",
        "    L = []\n",
        "    counter = 0 \n",
        "    for i in ast.literal_eval(obj):\n",
        "        if counter != 3:\n",
        "           L.append(i['name'])\n",
        "           counter+=1\n",
        "        else:\n",
        "          break\n",
        "    return L"
      ],
      "execution_count": null,
      "outputs": []
    },
    {
      "cell_type": "code",
      "metadata": {
        "id": "OBDlbrK1Alp2"
      },
      "source": [
        "movies['cast'] = movies['cast'].apply(convert3)\n",
        "movies.head()"
      ],
      "execution_count": null,
      "outputs": []
    },
    {
      "cell_type": "code",
      "metadata": {
        "id": "Ke9IWDtEAzeI"
      },
      "source": [
        "def fetch_director(obj):\n",
        "    L = []\n",
        "    for i in ast.literal_eval(obj):\n",
        "        if i['job'] == 'Director':\n",
        "           L.append(i['name'])\n",
        "           break\n",
        "    return L"
      ],
      "execution_count": null,
      "outputs": []
    },
    {
      "cell_type": "code",
      "metadata": {
        "id": "BcnBDir_CMpF"
      },
      "source": [
        "movies['crew'] = movies['crew'].apply(fetch_director)\n",
        "movies.head()"
      ],
      "execution_count": null,
      "outputs": []
    },
    {
      "cell_type": "code",
      "metadata": {
        "id": "VkiEE6D1CX9k"
      },
      "source": [
        "movies['overview'] = movies['overview'].apply(lambda x:x.split())\n",
        "movies.head()"
      ],
      "execution_count": null,
      "outputs": []
    },
    {
      "cell_type": "code",
      "metadata": {
        "id": "iidB7qL7DDOs"
      },
      "source": [
        "movies['genres'] = movies['genres'].apply(lambda x:[i.replace(\" \",\"\") for i in x])\n",
        "movies['keywords'] = movies['keywords'].apply(lambda x:[i.replace(\" \",\"\") for i in x])\n",
        "movies['cast'] = movies['cast'].apply(lambda x:[i.replace(\" \",\"\") for i in x])\n",
        "movies['crew'] = movies['crew'].apply(lambda x:[i.replace(\" \",\"\") for i in x])\n",
        "movies.head()"
      ],
      "execution_count": null,
      "outputs": []
    },
    {
      "cell_type": "code",
      "metadata": {
        "id": "vdAC1yd2EF3G"
      },
      "source": [
        "movies['tags'] = movies['overview']+ movies['genres']+movies['keywords']+movies['cast']+movies['crew']\n",
        "new_movies = movies[['movie_id','title','release_date','vote_average','tags']]\n",
        "new_movies"
      ],
      "execution_count": null,
      "outputs": []
    },
    {
      "cell_type": "code",
      "metadata": {
        "id": "k_ad6UdGFcV8"
      },
      "source": [
        "new_movies['tags'] = new_movies['tags'].apply(lambda x:\" \".join(x))\n",
        "new_movies"
      ],
      "execution_count": null,
      "outputs": []
    },
    {
      "cell_type": "code",
      "metadata": {
        "id": "xHjbIzVZMFa5"
      },
      "source": [
        "from sklearn.feature_extraction.text import CountVectorizer\n",
        "cv = CountVectorizer(max_features=5000,stop_words='english')\n",
        "vectors = cv.fit_transform(new_movies['tags']).toarray()\n",
        "vectors"
      ],
      "execution_count": null,
      "outputs": []
    },
    {
      "cell_type": "code",
      "metadata": {
        "id": "gBqBX3NfNyyW"
      },
      "source": [
        "import nltk\n",
        "from nltk.stem.porter import PorterStemmer\n",
        "ps = PorterStemmer()\n",
        "\n"
      ],
      "execution_count": null,
      "outputs": []
    },
    {
      "cell_type": "code",
      "metadata": {
        "id": "xQTK3JKiPFJG"
      },
      "source": [
        "def stem(text):\n",
        "    y = []\n",
        "\n",
        "    for i in text.split():\n",
        "        y.append(ps.stem(i)) \n",
        "    return \" \".join(y)"
      ],
      "execution_count": null,
      "outputs": []
    },
    {
      "cell_type": "code",
      "metadata": {
        "id": "TnpeMljWQeCB"
      },
      "source": [
        "new_movies['tags'] = new_movies['tags'].apply(stem)"
      ],
      "execution_count": null,
      "outputs": []
    },
    {
      "cell_type": "code",
      "metadata": {
        "id": "vRvhF78DQ561"
      },
      "source": [
        "from sklearn.metrics.pairwise import cosine_similarity\n",
        "similarity = cosine_similarity(vectors)\n",
        "similarity"
      ],
      "execution_count": null,
      "outputs": []
    },
    {
      "cell_type": "code",
      "metadata": {
        "id": "xlUGOHhuSk-M"
      },
      "source": [
        "def recommend(movie):\n",
        "    index = new_movies[new_movies['title'] == movie].index[0]\n",
        "    distances = sorted(list(enumerate(similarity[index])),reverse=True,key = lambda x: x[1])\n",
        "    for i in distances[1:6]:\n",
        "        print(new_movies.iloc[i[0]].title)\n",
        "\n",
        "        \n"
      ],
      "execution_count": null,
      "outputs": []
    },
    {
      "cell_type": "code",
      "metadata": {
        "id": "ZECqNxXRY0QP"
      },
      "source": [
        "recommend('Batman Begins')"
      ],
      "execution_count": null,
      "outputs": []
    },
    {
      "cell_type": "code",
      "metadata": {
        "id": "XzUyP7lButW_"
      },
      "source": [
        "import pickle\n",
        "pickle.dump(new_movies.to_dict(),open('movie_dict.pkl','wb'))\n",
        "pickle.dump(similarity,open('similarity.pkl','wb'))\n"
      ],
      "execution_count": null,
      "outputs": []
    }
  ]
}